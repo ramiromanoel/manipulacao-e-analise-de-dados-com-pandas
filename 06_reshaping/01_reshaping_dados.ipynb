{
 "cells": [
  {
   "cell_type": "code",
   "execution_count": 1,
   "metadata": {},
   "outputs": [],
   "source": [
    "import pandas as pd\n",
    "import numpy as np"
   ]
  },
  {
   "cell_type": "code",
   "execution_count": 2,
   "metadata": {},
   "outputs": [],
   "source": [
    "datas = pd.date_range('20200101', periods=6)\n",
    "\n",
    "df = pd.DataFrame(np.random.randn(6, 4), index=datas, columns=['Var_A', 'Var_B', 'Var_C', 'Var_D'])"
   ]
  },
  {
   "cell_type": "code",
   "execution_count": 3,
   "metadata": {},
   "outputs": [
    {
     "data": {
      "text/html": [
       "<div>\n",
       "<style scoped>\n",
       "    .dataframe tbody tr th:only-of-type {\n",
       "        vertical-align: middle;\n",
       "    }\n",
       "\n",
       "    .dataframe tbody tr th {\n",
       "        vertical-align: top;\n",
       "    }\n",
       "\n",
       "    .dataframe thead th {\n",
       "        text-align: right;\n",
       "    }\n",
       "</style>\n",
       "<table border=\"1\" class=\"dataframe\">\n",
       "  <thead>\n",
       "    <tr style=\"text-align: right;\">\n",
       "      <th></th>\n",
       "      <th>Var_A</th>\n",
       "      <th>Var_B</th>\n",
       "      <th>Var_C</th>\n",
       "      <th>Var_D</th>\n",
       "    </tr>\n",
       "  </thead>\n",
       "  <tbody>\n",
       "    <tr>\n",
       "      <th>2020-01-01</th>\n",
       "      <td>0.734867</td>\n",
       "      <td>1.038480</td>\n",
       "      <td>0.037983</td>\n",
       "      <td>0.933771</td>\n",
       "    </tr>\n",
       "    <tr>\n",
       "      <th>2020-01-02</th>\n",
       "      <td>0.671183</td>\n",
       "      <td>1.389993</td>\n",
       "      <td>-0.460147</td>\n",
       "      <td>-0.581349</td>\n",
       "    </tr>\n",
       "    <tr>\n",
       "      <th>2020-01-03</th>\n",
       "      <td>0.535014</td>\n",
       "      <td>0.197229</td>\n",
       "      <td>-0.060521</td>\n",
       "      <td>1.086894</td>\n",
       "    </tr>\n",
       "    <tr>\n",
       "      <th>2020-01-04</th>\n",
       "      <td>0.455464</td>\n",
       "      <td>0.062053</td>\n",
       "      <td>0.400028</td>\n",
       "      <td>1.180277</td>\n",
       "    </tr>\n",
       "    <tr>\n",
       "      <th>2020-01-05</th>\n",
       "      <td>0.636607</td>\n",
       "      <td>-0.927190</td>\n",
       "      <td>1.100714</td>\n",
       "      <td>-1.329730</td>\n",
       "    </tr>\n",
       "    <tr>\n",
       "      <th>2020-01-06</th>\n",
       "      <td>1.420849</td>\n",
       "      <td>1.204680</td>\n",
       "      <td>-2.112189</td>\n",
       "      <td>0.143461</td>\n",
       "    </tr>\n",
       "  </tbody>\n",
       "</table>\n",
       "</div>"
      ],
      "text/plain": [
       "               Var_A     Var_B     Var_C     Var_D\n",
       "2020-01-01  0.734867  1.038480  0.037983  0.933771\n",
       "2020-01-02  0.671183  1.389993 -0.460147 -0.581349\n",
       "2020-01-03  0.535014  0.197229 -0.060521  1.086894\n",
       "2020-01-04  0.455464  0.062053  0.400028  1.180277\n",
       "2020-01-05  0.636607 -0.927190  1.100714 -1.329730\n",
       "2020-01-06  1.420849  1.204680 -2.112189  0.143461"
      ]
     },
     "execution_count": 3,
     "metadata": {},
     "output_type": "execute_result"
    }
   ],
   "source": [
    "df"
   ]
  },
  {
   "cell_type": "code",
   "execution_count": 5,
   "metadata": {},
   "outputs": [],
   "source": [
    "dft = df.T"
   ]
  },
  {
   "cell_type": "code",
   "execution_count": 6,
   "metadata": {},
   "outputs": [],
   "source": [
    "v = dft.values"
   ]
  },
  {
   "cell_type": "code",
   "execution_count": 7,
   "metadata": {},
   "outputs": [
    {
     "data": {
      "text/plain": [
       "array([[ 0.73486742,  0.67118345,  0.5350139 ,  0.45546428,  0.63660678,\n",
       "         1.4208488 ,  1.03847955,  1.38999329,  0.19722929,  0.06205258,\n",
       "        -0.92719032,  1.20468046],\n",
       "       [ 0.03798271, -0.46014748, -0.06052086,  0.40002752,  1.10071377,\n",
       "        -2.11218853,  0.93377137, -0.58134876,  1.08689396,  1.18027694,\n",
       "        -1.32972989,  0.1434607 ]])"
      ]
     },
     "execution_count": 7,
     "metadata": {},
     "output_type": "execute_result"
    }
   ],
   "source": [
    "v.reshape(2,12)"
   ]
  },
  {
   "cell_type": "code",
   "execution_count": null,
   "metadata": {},
   "outputs": [],
   "source": []
  }
 ],
 "metadata": {
  "kernelspec": {
   "display_name": "Python 3",
   "language": "python",
   "name": "python3"
  },
  "language_info": {
   "codemirror_mode": {
    "name": "ipython",
    "version": 3
   },
   "file_extension": ".py",
   "mimetype": "text/x-python",
   "name": "python",
   "nbconvert_exporter": "python",
   "pygments_lexer": "ipython3",
   "version": "3.11.1"
  }
 },
 "nbformat": 4,
 "nbformat_minor": 2
}
