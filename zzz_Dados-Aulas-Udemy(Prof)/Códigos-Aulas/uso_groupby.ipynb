{
  "nbformat": 4,
  "nbformat_minor": 0,
  "metadata": {
    "colab": {
      "provenance": []
    },
    "kernelspec": {
      "name": "python3",
      "display_name": "Python 3"
    }
  },
  "cells": [
    {
      "cell_type": "code",
      "metadata": {
        "id": "TL32xqFKI6Xi"
      },
      "source": [
        "import numpy as np\n",
        "import pandas as pd"
      ],
      "execution_count": null,
      "outputs": []
    },
    {
      "cell_type": "code",
      "metadata": {
        "id": "3FMP9CDCOR7d"
      },
      "source": [
        "df = pd.DataFrame({'A': ['verdadeiro', 'falso', 'verdadeiro', 'falso',\n",
        "   ....:                          'verdadeiro', 'falso', 'verdadeiro', 'falso'],\n",
        "   ....:                    'B': ['um', 'um', 'dois', 'tres',\n",
        "   ....:                          'dois', 'dois', 'um', 'tres'],\n",
        "   ....:                    'C': np.random.randn(8),\n",
        "   ....:                    'D': np.random.randn(8)})"
      ],
      "execution_count": null,
      "outputs": []
    },
    {
      "cell_type": "code",
      "metadata": {
        "id": "2Y7jtMpQOc84",
        "colab": {
          "base_uri": "https://localhost:8080/",
          "height": 288
        },
        "outputId": "30c7abfd-30a7-4172-a411-dc3f037e3320"
      },
      "source": [
        "df"
      ],
      "execution_count": null,
      "outputs": [
        {
          "output_type": "execute_result",
          "data": {
            "text/html": [
              "<div>\n",
              "<style scoped>\n",
              "    .dataframe tbody tr th:only-of-type {\n",
              "        vertical-align: middle;\n",
              "    }\n",
              "\n",
              "    .dataframe tbody tr th {\n",
              "        vertical-align: top;\n",
              "    }\n",
              "\n",
              "    .dataframe thead th {\n",
              "        text-align: right;\n",
              "    }\n",
              "</style>\n",
              "<table border=\"1\" class=\"dataframe\">\n",
              "  <thead>\n",
              "    <tr style=\"text-align: right;\">\n",
              "      <th></th>\n",
              "      <th>A</th>\n",
              "      <th>B</th>\n",
              "      <th>C</th>\n",
              "      <th>D</th>\n",
              "    </tr>\n",
              "  </thead>\n",
              "  <tbody>\n",
              "    <tr>\n",
              "      <th>0</th>\n",
              "      <td>verdadeiro</td>\n",
              "      <td>um</td>\n",
              "      <td>0.059076</td>\n",
              "      <td>0.323280</td>\n",
              "    </tr>\n",
              "    <tr>\n",
              "      <th>1</th>\n",
              "      <td>falso</td>\n",
              "      <td>um</td>\n",
              "      <td>-0.081301</td>\n",
              "      <td>-1.050412</td>\n",
              "    </tr>\n",
              "    <tr>\n",
              "      <th>2</th>\n",
              "      <td>verdadeiro</td>\n",
              "      <td>dois</td>\n",
              "      <td>0.332312</td>\n",
              "      <td>-0.599970</td>\n",
              "    </tr>\n",
              "    <tr>\n",
              "      <th>3</th>\n",
              "      <td>falso</td>\n",
              "      <td>tres</td>\n",
              "      <td>-1.663166</td>\n",
              "      <td>-1.056727</td>\n",
              "    </tr>\n",
              "    <tr>\n",
              "      <th>4</th>\n",
              "      <td>verdadeiro</td>\n",
              "      <td>dois</td>\n",
              "      <td>-0.755497</td>\n",
              "      <td>-1.585927</td>\n",
              "    </tr>\n",
              "    <tr>\n",
              "      <th>5</th>\n",
              "      <td>falso</td>\n",
              "      <td>dois</td>\n",
              "      <td>-1.707821</td>\n",
              "      <td>2.033955</td>\n",
              "    </tr>\n",
              "    <tr>\n",
              "      <th>6</th>\n",
              "      <td>verdadeiro</td>\n",
              "      <td>um</td>\n",
              "      <td>-0.290368</td>\n",
              "      <td>-0.902597</td>\n",
              "    </tr>\n",
              "    <tr>\n",
              "      <th>7</th>\n",
              "      <td>falso</td>\n",
              "      <td>tres</td>\n",
              "      <td>0.033102</td>\n",
              "      <td>-0.525751</td>\n",
              "    </tr>\n",
              "  </tbody>\n",
              "</table>\n",
              "</div>"
            ],
            "text/plain": [
              "            A     B         C         D\n",
              "0  verdadeiro    um  0.059076  0.323280\n",
              "1       falso    um -0.081301 -1.050412\n",
              "2  verdadeiro  dois  0.332312 -0.599970\n",
              "3       falso  tres -1.663166 -1.056727\n",
              "4  verdadeiro  dois -0.755497 -1.585927\n",
              "5       falso  dois -1.707821  2.033955\n",
              "6  verdadeiro    um -0.290368 -0.902597\n",
              "7       falso  tres  0.033102 -0.525751"
            ]
          },
          "metadata": {
            "tags": []
          },
          "execution_count": 3
        }
      ]
    },
    {
      "cell_type": "code",
      "metadata": {
        "id": "O5dpXl8zOePQ",
        "colab": {
          "base_uri": "https://localhost:8080/",
          "height": 138
        },
        "outputId": "65b1536e-e367-44aa-dc28-99dae213781b"
      },
      "source": [
        "df.groupby(['A']).sum()"
      ],
      "execution_count": null,
      "outputs": [
        {
          "output_type": "execute_result",
          "data": {
            "text/html": [
              "<div>\n",
              "<style scoped>\n",
              "    .dataframe tbody tr th:only-of-type {\n",
              "        vertical-align: middle;\n",
              "    }\n",
              "\n",
              "    .dataframe tbody tr th {\n",
              "        vertical-align: top;\n",
              "    }\n",
              "\n",
              "    .dataframe thead th {\n",
              "        text-align: right;\n",
              "    }\n",
              "</style>\n",
              "<table border=\"1\" class=\"dataframe\">\n",
              "  <thead>\n",
              "    <tr style=\"text-align: right;\">\n",
              "      <th></th>\n",
              "      <th>C</th>\n",
              "      <th>D</th>\n",
              "    </tr>\n",
              "    <tr>\n",
              "      <th>A</th>\n",
              "      <th></th>\n",
              "      <th></th>\n",
              "    </tr>\n",
              "  </thead>\n",
              "  <tbody>\n",
              "    <tr>\n",
              "      <th>falso</th>\n",
              "      <td>-3.419186</td>\n",
              "      <td>-0.598934</td>\n",
              "    </tr>\n",
              "    <tr>\n",
              "      <th>verdadeiro</th>\n",
              "      <td>-0.654476</td>\n",
              "      <td>-2.765214</td>\n",
              "    </tr>\n",
              "  </tbody>\n",
              "</table>\n",
              "</div>"
            ],
            "text/plain": [
              "                   C         D\n",
              "A                             \n",
              "falso      -3.419186 -0.598934\n",
              "verdadeiro -0.654476 -2.765214"
            ]
          },
          "metadata": {
            "tags": []
          },
          "execution_count": 4
        }
      ]
    },
    {
      "cell_type": "code",
      "metadata": {
        "id": "XHcRl-OqPfFj"
      },
      "source": [
        "df.groupby(['A']).mean()"
      ],
      "execution_count": null,
      "outputs": []
    },
    {
      "cell_type": "code",
      "metadata": {
        "id": "p0ObUuBmPk9w"
      },
      "source": [
        "df.groupby(['B']).sum()"
      ],
      "execution_count": null,
      "outputs": []
    },
    {
      "cell_type": "code",
      "metadata": {
        "id": "GYk54yG9TUpp",
        "colab": {
          "base_uri": "https://localhost:8080/",
          "height": 228
        },
        "outputId": "feee6bfb-6f0c-4835-f789-6ec3815b9b4b"
      },
      "source": [
        "df.groupby(['A', 'B']).sum()"
      ],
      "execution_count": null,
      "outputs": [
        {
          "output_type": "execute_result",
          "data": {
            "text/html": [
              "<div>\n",
              "<style scoped>\n",
              "    .dataframe tbody tr th:only-of-type {\n",
              "        vertical-align: middle;\n",
              "    }\n",
              "\n",
              "    .dataframe tbody tr th {\n",
              "        vertical-align: top;\n",
              "    }\n",
              "\n",
              "    .dataframe thead th {\n",
              "        text-align: right;\n",
              "    }\n",
              "</style>\n",
              "<table border=\"1\" class=\"dataframe\">\n",
              "  <thead>\n",
              "    <tr style=\"text-align: right;\">\n",
              "      <th></th>\n",
              "      <th></th>\n",
              "      <th>C</th>\n",
              "      <th>D</th>\n",
              "    </tr>\n",
              "    <tr>\n",
              "      <th>A</th>\n",
              "      <th>B</th>\n",
              "      <th></th>\n",
              "      <th></th>\n",
              "    </tr>\n",
              "  </thead>\n",
              "  <tbody>\n",
              "    <tr>\n",
              "      <th rowspan=\"3\" valign=\"top\">falso</th>\n",
              "      <th>dois</th>\n",
              "      <td>-1.707821</td>\n",
              "      <td>2.033955</td>\n",
              "    </tr>\n",
              "    <tr>\n",
              "      <th>tres</th>\n",
              "      <td>-1.630064</td>\n",
              "      <td>-1.582477</td>\n",
              "    </tr>\n",
              "    <tr>\n",
              "      <th>um</th>\n",
              "      <td>-0.081301</td>\n",
              "      <td>-1.050412</td>\n",
              "    </tr>\n",
              "    <tr>\n",
              "      <th rowspan=\"2\" valign=\"top\">verdadeiro</th>\n",
              "      <th>dois</th>\n",
              "      <td>-0.423185</td>\n",
              "      <td>-2.185897</td>\n",
              "    </tr>\n",
              "    <tr>\n",
              "      <th>um</th>\n",
              "      <td>-0.231292</td>\n",
              "      <td>-0.579317</td>\n",
              "    </tr>\n",
              "  </tbody>\n",
              "</table>\n",
              "</div>"
            ],
            "text/plain": [
              "                        C         D\n",
              "A          B                       \n",
              "falso      dois -1.707821  2.033955\n",
              "           tres -1.630064 -1.582477\n",
              "           um   -0.081301 -1.050412\n",
              "verdadeiro dois -0.423185 -2.185897\n",
              "           um   -0.231292 -0.579317"
            ]
          },
          "metadata": {
            "tags": []
          },
          "execution_count": 7
        }
      ]
    },
    {
      "cell_type": "code",
      "metadata": {
        "id": "CY95GXVRTieu"
      },
      "source": [],
      "execution_count": null,
      "outputs": []
    }
  ]
}